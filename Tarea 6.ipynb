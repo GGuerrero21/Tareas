{
 "cells": [
  {
   "cell_type": "markdown",
   "metadata": {},
   "source": [
    "# Tarea 6.8\n",
    "\n",
    "#### Gonzalo Guerrero Valenzuela 20.505.512-6\n"
   ]
  },
  {
   "cell_type": "markdown",
   "metadata": {},
   "source": [
    "-----------------------------------------------------------------------------------------------------------------------------------------------------------------------"
   ]
  },
  {
   "cell_type": "markdown",
   "metadata": {},
   "source": [
    "Busque un ejemplo de una función tal que el método de bisección con la condición $|p_n - p_{n-1}|/|p_n| < \\epsilon$ converge siempre a un valor que no es un cero de la función."
   ]
  },
  {
   "cell_type": "markdown",
   "metadata": {},
   "source": [
    "-----------------------------------------------------------------------------------------------------------------------------------------------------------------------"
   ]
  },
  {
   "cell_type": "markdown",
   "metadata": {},
   "source": [
    "Para poder conseguir esto, utilizare la funcion $f(x)=x^2$ ya que asi no tendremos el caso $f(a)f(b)<0$"
   ]
  },
  {
   "cell_type": "code",
   "execution_count": 9,
   "metadata": {},
   "outputs": [],
   "source": [
    "#Definimos la funcion que se menciono anteriormente para poder ser usada en el metodo de biseccion\n",
    "def funcion(x):\n",
    "    return x**2"
   ]
  },
  {
   "cell_type": "code",
   "execution_count": 1,
   "metadata": {},
   "outputs": [],
   "source": [
    "#Definimos la funcion del metodo de biseccion\n",
    "def bisec(f, a, b, e, I=1000000):\n",
    "    '''\n",
    "    Esta función definira el metodo de biseccion para una funcion(f), a < b tal que f(a)f(b) > 0 y una toleracia permitida(e)\n",
    "    '''\n",
    "\n",
    "    p1 = a #Creamos una primera evaluacion para p\n",
    "    for i in range(I): #Hacemos un ciclo for\n",
    "\n",
    "        p = a + (b - a)/2 #Definimos la variable p\n",
    "        print(p)\n",
    "\n",
    "        if abs(p - p1)/abs(p) < e: #Creamos un condicional para poder evaluar si debe parar segun la tolerancia indicada en e\n",
    "\n",
    "            return p\n",
    "        \n",
    "        elif f(p)*f(a) > 0: #Esta condicion, debido a la funcion descrita al inicio siempre se cumple\n",
    "\n",
    "            a = p\n",
    "\n",
    "        else:\n",
    "\n",
    "            b = p\n",
    "\n",
    "        p1 = p\n",
    "\n",
    "    print(\"No se encontró el cero después de\", I, \"iteraciones\") #Finalmente nos entrega un mensaje si no se encuentra el cero"
   ]
  },
  {
   "cell_type": "code",
   "execution_count": 11,
   "metadata": {},
   "outputs": [
    {
     "name": "stdout",
     "output_type": "stream",
     "text": [
      "-92.5\n",
      "-38.75\n",
      "-11.875\n",
      "1.5625\n",
      "8.28125\n",
      "11.640625\n",
      "13.3203125\n",
      "14.16015625\n",
      "14.580078125\n",
      "14.7900390625\n",
      "14.89501953125\n",
      "14.947509765625\n",
      "14.9737548828125\n",
      "14.98687744140625\n"
     ]
    },
    {
     "data": {
      "text/plain": [
       "14.98687744140625"
      ]
     },
     "execution_count": 11,
     "metadata": {},
     "output_type": "execute_result"
    }
   ],
   "source": [
    "bisec(funcion,-200,15,0.001) #Evaluamos el metodo de biseccion con la funcion expresada al inicio, a<b y un e que se estime conveniente"
   ]
  },
  {
   "cell_type": "markdown",
   "metadata": {},
   "source": [
    "Como se puede observar la biseccion converge hacia b, esto debido a que en este caso $f(a)f(p)>0$"
   ]
  }
 ],
 "metadata": {
  "kernelspec": {
   "display_name": "base",
   "language": "python",
   "name": "python3"
  },
  "language_info": {
   "codemirror_mode": {
    "name": "ipython",
    "version": 3
   },
   "file_extension": ".py",
   "mimetype": "text/x-python",
   "name": "python",
   "nbconvert_exporter": "python",
   "pygments_lexer": "ipython3",
   "version": "3.11.5"
  },
  "orig_nbformat": 4
 },
 "nbformat": 4,
 "nbformat_minor": 2
}
