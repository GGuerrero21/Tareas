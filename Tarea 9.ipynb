{
 "cells": [
  {
   "cell_type": "markdown",
   "id": "04a06a8f",
   "metadata": {},
   "source": [
    "# Tarea 9.1\n",
    "\n",
    "#### Gonzalo Guerrero Valenzuela 20.505.512-6\n"
   ]
  },
  {
   "cell_type": "markdown",
   "metadata": {},
   "source": [
    "------------------------------------------------------------------------------------------"
   ]
  },
  {
   "cell_type": "markdown",
   "metadata": {},
   "source": [
    "\n",
    "\n",
    "Escriba un codigo que implemente una curvatura gaussiana compuesta. Es decir, divide el intervalo de integracion en $n$ subintervalos y aplica una cuadratura en cada uno."
   ]
  },
  {
   "cell_type": "markdown",
   "metadata": {},
   "source": [
    "-------------------------------------------------------------------------------------"
   ]
  },
  {
   "cell_type": "markdown",
   "id": "1260931a",
   "metadata": {},
   "source": [
    "Solo basta con separar el intervalo $[a,b]$ en $n$ subintervalos con limites $[a_{n},b_{n}]$ y evaluar la cuadratura gaussiana en cada uno. Si los intervalos se dividen en partes iguales la cuadratura se evalua en los limites $a_{n} + hn$ y $a_{n} + 2hn$. Por lo que los nuevos limites (tal que este entre $-1$ y $+1$ y por ende sea aplicable la cuadratura) son:\n",
    "\n",
    "$$\n",
    "l_1 = \\frac{b_n - a_n}{2}\\;\\;,\\;\\; l_2=\\frac{b_n + a_n}{2}\n",
    "$$"
   ]
  },
  {
   "cell_type": "code",
   "execution_count": 4,
   "id": "6c47db96",
   "metadata": {},
   "outputs": [],
   "source": [
    "import numpy as np\n",
    "\n",
    "def gauss_compuesta(f,a,b,N):\n",
    "    \"\"\"\n",
    "    f: funcion a integrar.\n",
    "    a,b: limites intervalos.\n",
    "    N: numero de intervalos\n",
    "    \"\"\"\n",
    "    c = np.array([0.2369268850, 0.4786286705, 0.5688888889, 0.4786286705, 0.2369268850])\n",
    "    r = np.array([0.9061798459, 0.5384693101, 0.0000000000, -0.5384693101, -0.9061798459])\n",
    "    \n",
    "    h = (b-a)/N #separacion\n",
    "    r1 = 0\n",
    "    for n in range(N):\n",
    "        an = n*h\n",
    "        bn = an + h\n",
    "        l1 = (bn - an)/2 #limite inferior\n",
    "        l2 = (bn + an)/2 #limite superior\n",
    "        r2 = 0\n",
    "        for i in range(5):\n",
    "            xn = l1 * r[i] + l2\n",
    "            r2 += c[i]*f(xn)\n",
    "        r1 += l1*r2\n",
    "    return r1\n"
   ]
  },
  {
   "cell_type": "markdown",
   "id": "9e4f038a",
   "metadata": {},
   "source": [
    "Probamos con una integral conocida, por ejemplo $\\int_{0}^{1}e^{x} =  e - 1$"
   ]
  },
  {
   "cell_type": "code",
   "execution_count": 5,
   "id": "ed39887b",
   "metadata": {},
   "outputs": [
    {
     "name": "stdout",
     "output_type": "stream",
     "text": [
      "El error utilizando gauss compuesta es 8.591971578653101e-11\n"
     ]
    }
   ],
   "source": [
    "real = np.exp(1) - 1\n",
    "aprox = gauss_compuesta(np.exp,0,1,40)\n",
    "print(f\"El error utilizando gauss compuesta es {np.abs(real - aprox)}\")"
   ]
  }
 ],
 "metadata": {
  "kernelspec": {
   "display_name": "Python 3 (ipykernel)",
   "language": "python",
   "name": "python3"
  },
  "language_info": {
   "codemirror_mode": {
    "name": "ipython",
    "version": 3
   },
   "file_extension": ".py",
   "mimetype": "text/x-python",
   "name": "python",
   "nbconvert_exporter": "python",
   "pygments_lexer": "ipython3",
   "version": "3.11.5"
  }
 },
 "nbformat": 4,
 "nbformat_minor": 5
}
