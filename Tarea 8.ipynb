{
 "cells": [
  {
   "cell_type": "markdown",
   "metadata": {},
   "source": [
    "# Tarea 8.6\n",
    "\n",
    "#### Gonzalo Guerrero Valenzuela 20.505.512-6\n"
   ]
  },
  {
   "cell_type": "markdown",
   "metadata": {},
   "source": [
    "-----------------------------------------------------------------------------------------------------------------------------------------------------------------------"
   ]
  },
  {
   "cell_type": "markdown",
   "metadata": {},
   "source": [
    "Ejercicio 4.4.22 del libro de Burden de análisis numérico.\n",
    "\n",
    "La ecuación\n",
    "\n",
    "$$\n",
    "\\int_0^x dt\\,\\frac{1}{\\sqrt{2\\pi}}e^{-t^2/2} = 0.45\\,,\n",
    "$$\n",
    "\n",
    "se puede resolver para $x$ usando el método de Newton. Para lograrlo es necesario evaluar la función\n",
    "\n",
    "$$\n",
    "f(p) = \\int_0^p dt\\,\\frac{1}{\\sqrt{2\\pi}}e^{-t^2/2} - 0.45\\,.\n",
    "$$\n",
    "\n",
    "Use el método compuesto del trapecio para evaluar esta función y luego use el método de Newton para encontrar $x$ con una precisión de $10^{-5}$."
   ]
  },
  {
   "cell_type": "markdown",
   "metadata": {},
   "source": [
    "-----------------------------------------------------------------------------------------------------------------------------------------------------------------------"
   ]
  },
  {
   "cell_type": "code",
   "execution_count": 3,
   "metadata": {},
   "outputs": [
    {
     "name": "stdout",
     "output_type": "stream",
     "text": [
      "La solución x es: 1.644814493048582\n"
     ]
    }
   ],
   "source": [
    "import numpy as np\n",
    "\n",
    "# Función f(p) a integrar\n",
    "def f(p):\n",
    "    '''Funcion que se se integrara'''\n",
    "    int = 0\n",
    "    n = 1000  # Número de subintervalos\n",
    "    h = p / n  # Tamaño de cada subintervalo\n",
    "\n",
    "    for i in range(1, n): # Metodo del trapecio\n",
    "        t = i * h\n",
    "        int += np.exp(-t**2 / 2) / np.sqrt(2 * np.pi)\n",
    "\n",
    "    int = (h / 2) * (np.exp(-0 / 2) / np.sqrt(2 * np.pi) + np.exp(-p**2 / 2) / np.sqrt(2 * np.pi) + 2 * int)\n",
    "    return int - 0.45\n",
    "\n",
    "# Derivada de f(p)\n",
    "def df(p):\n",
    "    '''Funcion que define la derivada'''\n",
    "    h = 1e-6\n",
    "    return (f(p + h) - f(p)) / h\n",
    "\n",
    "# Método de Newton\n",
    "def newton(xinicial, tol):\n",
    "    '''Funcion definida para el metodo de Newton'''\n",
    "    p = xinicial\n",
    "    while abs(f(p)) > tol:\n",
    "        p = p - f(p) / df(p)\n",
    "    return p\n",
    "\n",
    "# Llamada al método de Newton\n",
    "xinicial = 0.5  # Valor inicial\n",
    "tol = 1e-5\n",
    "sol = newton(xinicial, tol)\n",
    "\n",
    "print(\"La solución x es:\", sol)\n"
   ]
  },
  {
   "cell_type": "markdown",
   "metadata": {},
   "source": [
    "# Calificación: 7.0"
   ]
  },
  {
   "cell_type": "markdown",
   "metadata": {},
   "source": []
  }
 ],
 "metadata": {
  "kernelspec": {
   "display_name": "base",
   "language": "python",
   "name": "python3"
  },
  "language_info": {
   "codemirror_mode": {
    "name": "ipython",
    "version": 3
   },
   "file_extension": ".py",
   "mimetype": "text/x-python",
   "name": "python",
   "nbconvert_exporter": "python",
   "pygments_lexer": "ipython3",
   "version": "3.11.5"
  }
 },
 "nbformat": 4,
 "nbformat_minor": 2
}
