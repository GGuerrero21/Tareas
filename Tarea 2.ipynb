{
 "cells": [
  {
   "cell_type": "markdown",
   "id": "b79293b9-b49d-43d2-8bc6-749cfe220237",
   "metadata": {},
   "source": [
    "# Tarea 2.4\n",
    "#### Gonzalo Guerrero Valenzuela 20.505.512-6"
   ]
  },
  {
   "cell_type": "markdown",
   "id": "ac9c15ba-f94a-4172-b724-896418282ee0",
   "metadata": {
    "tags": []
   },
   "source": [
    "--------------------------------------------------------------------------------------------------------------------------------------------------------------------------------------------------------------"
   ]
  },
  {
   "cell_type": "markdown",
   "id": "354a2b0c-d13b-4ca2-8e58-19877e26cdf1",
   "metadata": {},
   "source": [
    "Escriba un código, sin usar ciclos for ni while, que calcule los cuadrados de los números enteros enttre 1 y 100."
   ]
  },
  {
   "cell_type": "markdown",
   "id": "fffd56ae-934d-42d9-aa60-b34b9b184e72",
   "metadata": {
    "tags": []
   },
   "source": [
    "--------------------------------------------------------------------------------------------------------------------------------------------------------------------------------------------------------------"
   ]
  },
  {
   "cell_type": "code",
   "execution_count": 8,
   "id": "5c004545-0bfd-4b99-b801-0e861f130e41",
   "metadata": {
    "tags": []
   },
   "outputs": [
    {
     "name": "stdout",
     "output_type": "stream",
     "text": [
      "[    1     4     9    16    25    36    49    64    81   100   121   144\n",
      "   169   196   225   256   289   324   361   400   441   484   529   576\n",
      "   625   676   729   784   841   900   961  1024  1089  1156  1225  1296\n",
      "  1369  1444  1521  1600  1681  1764  1849  1936  2025  2116  2209  2304\n",
      "  2401  2500  2601  2704  2809  2916  3025  3136  3249  3364  3481  3600\n",
      "  3721  3844  3969  4096  4225  4356  4489  4624  4761  4900  5041  5184\n",
      "  5329  5476  5625  5776  5929  6084  6241  6400  6561  6724  6889  7056\n",
      "  7225  7396  7569  7744  7921  8100  8281  8464  8649  8836  9025  9216\n",
      "  9409  9604  9801 10000]\n",
      "------------------------------------------------------------------------\n",
      "[    1     4     9    16    25    36    49    64    81   100   121   144\n",
      "   169   196   225   256   289   324   361   400   441   484   529   576\n",
      "   625   676   729   784   841   900   961  1024  1089  1156  1225  1296\n",
      "  1369  1444  1521  1600  1681  1764  1849  1936  2025  2116  2209  2304\n",
      "  2401  2500  2601  2704  2809  2916  3025  3136  3249  3364  3481  3600\n",
      "  3721  3844  3969  4096  4225  4356  4489  4624  4761  4900  5041  5184\n",
      "  5329  5476  5625  5776  5929  6084  6241  6400  6561  6724  6889  7056\n",
      "  7225  7396  7569  7744  7921  8100  8281  8464  8649  8836  9025  9216\n",
      "  9409  9604  9801 10000]\n"
     ]
    }
   ],
   "source": [
    "# Lo primero que haremos sera importar numpy\n",
    "import numpy as np #Para que sea comodo lo haremos como np\n",
    "\n",
    "#Definimos el arreglo a utilizar\n",
    "arr = np.arange(1,101,1) #Para no tener que escribir los numero uno por uno en un arreglo o lista normal solicitamos que nos cree un arreglo desde el 1 hasta el 101 - 1 con un paso de 1\n",
    "\n",
    "print(arr * arr) #Como primera opcion para que nos imprima los valores solicitados hacemos que el arreglo se multiplique por si mismo\n",
    "\n",
    "print(\"------------------------------------------------------------------------\") #Separador\n",
    "\n",
    "print(arr ** 2) #La segunda opcion seria pedirle que nos imprima el arreglo elevado al cuadrado, que nos da el mismo resultado que el metodo anterior"
   ]
  }
 ],
 "metadata": {
  "kernelspec": {
   "display_name": "Python 3 (ipykernel)",
   "language": "python",
   "name": "python3"
  },
  "language_info": {
   "codemirror_mode": {
    "name": "ipython",
    "version": 3
   },
   "file_extension": ".py",
   "mimetype": "text/x-python",
   "name": "python",
   "nbconvert_exporter": "python",
   "pygments_lexer": "ipython3",
   "version": "3.11.4"
  }
 },
 "nbformat": 4,
 "nbformat_minor": 5
}
