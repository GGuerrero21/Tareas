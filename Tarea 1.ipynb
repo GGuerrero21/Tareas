{
 "cells": [
  {
   "cell_type": "markdown",
   "id": "58c0fa57-6a42-468a-8cd5-356500cd784c",
   "metadata": {},
   "source": [
    "# Tarea 1.4\n",
    "#### Gonzalo Guerrero Valenzuela 20.505.512-6"
   ]
  },
  {
   "cell_type": "markdown",
   "id": "1a73fd4c-909e-4147-af55-4ad90337444e",
   "metadata": {},
   "source": [
    "---------------------------------------------------------------------------------------------------------------------------------------------------------------------"
   ]
  },
  {
   "cell_type": "markdown",
   "id": "a91e4493-834a-4ec9-923b-4416a42dc22a",
   "metadata": {},
   "source": [
    "Use Python para calcular lo siguiente:\n",
    "\n",
    "$$\\frac{2 x}{3 (y + x)}$$\n",
    "\n",
    "donde $x = 1$ y $y = 2$."
   ]
  },
  {
   "cell_type": "markdown",
   "id": "5c88b759-2e1e-4feb-aaca-990374e738ab",
   "metadata": {},
   "source": [
    "--------------------------------------------------------------------------------------------------------------"
   ]
  },
  {
   "cell_type": "markdown",
   "id": "33f3270f-eefe-409b-9bb1-6b76af82f9d2",
   "metadata": {},
   "source": [
    "Para calcular lo solicitado hacemos lo siguiente:"
   ]
  },
  {
   "cell_type": "code",
   "execution_count": 6,
   "id": "dc0d9eb4-4b7a-4ddd-9b91-e09bfe14bd93",
   "metadata": {},
   "outputs": [
    {
     "name": "stdout",
     "output_type": "stream",
     "text": [
      "El resultado de la ecuacion es: 0.2222222222222222\n",
      "------------------\n",
      "El resultado de la ecuacion es: 0.2222222222222222\n"
     ]
    }
   ],
   "source": [
    "#Antes de realizar la operacion en si vamos a definir las variables x e y\n",
    "x = 1\n",
    "y = 2\n",
    "\n",
    "#A continuacion escribimos cuidadosamente la ecuacion utilizando adecuadamente los parentesis para que no existan problemas\n",
    "ecu = (2 * x) / (3 * (x + y)) #Le asignamos a la ecuacion la variable \"ecu\" para que luego pedir el print sea mas sencillo\n",
    "\n",
    "#Le pedimos que nos imprima el valor\n",
    "print(\"El resultado de la ecuacion es:\",ecu)\n",
    "\n",
    "print(\"------------------\") #Separador\n",
    "\n",
    "#Para ahorrarnos pasos simplemente podemos escribir directamente:\n",
    "print(\"El resultado de la ecuacion es:\",(2 * x) / (3 * (x + y)))"
   ]
  }
 ],
 "metadata": {
  "kernelspec": {
   "display_name": "Python 3 (ipykernel)",
   "language": "python",
   "name": "python3"
  },
  "language_info": {
   "codemirror_mode": {
    "name": "ipython",
    "version": 3
   },
   "file_extension": ".py",
   "mimetype": "text/x-python",
   "name": "python",
   "nbconvert_exporter": "python",
   "pygments_lexer": "ipython3",
   "version": "3.11.4"
  }
 },
 "nbformat": 4,
 "nbformat_minor": 5
}
