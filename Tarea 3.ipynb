{
 "cells": [
  {
   "cell_type": "markdown",
   "id": "71abe0d6-b0ff-498b-9d1b-1f530e9e26f2",
   "metadata": {},
   "source": [
    "# Tarea 3.4\n",
    "\n",
    "#### Gonzalo Guerrero Valenzuela 20.505.512-6\n",
    "\n"
   ]
  },
  {
   "cell_type": "markdown",
   "id": "f9fd995a-2ece-4406-9c28-0d0d29400575",
   "metadata": {},
   "source": [
    "-----------------------------------------------------------------------------------------------------------------------------------------------------------------------"
   ]
  },
  {
   "cell_type": "markdown",
   "id": "47074520-846a-4374-ac08-c9e78f6b3bb9",
   "metadata": {},
   "source": [
    "La siguiente es una lista de las edades de los alumnos de un curso de segundo año."
   ]
  },
  {
   "cell_type": "code",
   "execution_count": 1,
   "id": "f108d2fe-4b57-4f48-8ec0-a09717b5cc9f",
   "metadata": {
    "tags": []
   },
   "outputs": [],
   "source": [
    "edades = [19.0, 18.7, 19.3, 19.2, 18.9, 19.0, 20.2, 19.9, 18.6, 19.4, 19.3, 18.8, 19.3, 19.2, 18.7, 18.5, 18.6, 19.7,\n",
    "19.9, 20.0, 19.5, 19.4, 19.6, 20.0, 18.9]"
   ]
  },
  {
   "cell_type": "markdown",
   "id": "01c8b919-bf7d-49d7-a58b-42a32477b1cc",
   "metadata": {},
   "source": [
    "Grafique estos datos usando el tipo de gráfico que mejor los represente. Calcule el promedio y la varianza. Repita el mismo proceso incluyendo al profesor (edad 37.0). Note que el promedio cambia poco pero la varianza cambia bastante."
   ]
  },
  {
   "cell_type": "markdown",
   "id": "a00ff670-b56f-4605-b021-de79c6b7a3ce",
   "metadata": {},
   "source": [
    "---------------------------------------------------------------------------------------------------------------------------------------------------"
   ]
  },
  {
   "cell_type": "code",
   "execution_count": 2,
   "id": "0a294c41-8f18-4040-9b7f-b35cf814dd1d",
   "metadata": {
    "tags": []
   },
   "outputs": [],
   "source": [
    "#Importamos los paquetes a utilizar\n",
    "import matplotlib.pyplot as plt #matplotlib para graficar\n",
    "import numpy as np #numpy para calcular el promedio y la varianza"
   ]
  },
  {
   "cell_type": "code",
   "execution_count": 3,
   "id": "eaad41a3-3165-4d4d-8613-7391536dd71b",
   "metadata": {
    "tags": []
   },
   "outputs": [
    {
     "name": "stdout",
     "output_type": "stream",
     "text": [
      "El promedio de las edades sin contar al profesor es de: 19.264\n",
      "La varianza de las edades sin contar al profesor es de: 0.23590399999999978\n",
      "----------------------------------------------------------------------------\n",
      "El promedio de las edades contando al profesor es de: 19.946153846153848\n",
      "La varianza de las edades contando al profesor es de: 11.860177514792898\n"
     ]
    },
    {
     "data": {
      "image/png": "[encoded data removed]",
      "text/plain": [
       "<Figure size 640x480 with 2 Axes>"
      ]
     },
     "metadata": {},
     "output_type": "display_data"
    }
   ],
   "source": [
    "#Creamos una cuadrilla de 2x1 para apilar los graficos en una sola imagen\n",
    "fig = plt.figure()\n",
    "sinprof = fig.add_subplot(2,1,1) #Grafica sin contar la edad del profesor\n",
    "conprof = fig.add_subplot(2,1,2) #Grafica contando la edad del profesor\n",
    "\n",
    "#La mejor forma de graficar las edades es con un histograma\n",
    "sinprof.hist(edades, #En el primero que es sin la edad del profesor elegimos los datos a graficar\n",
    "             color=\"lightblue\",range=(18,20),bins = 30,rwidth = 0.7) #A continuacion elegimos los parametros del primer grafico:\n",
    "                                                                     #color celeste, un rango para el grafico entre 18 y 20, definimos un bin de 30 y un ancho de la barra de 0.7\n",
    "\n",
    "print(\"El promedio de las edades sin contar al profesor es de:\",np.mean(edades)) #Imprimimos el valor del promedio obtenido con np.mean\n",
    "print(\"La varianza de las edades sin contar al profesor es de:\",np.var(edades)) #Imprimimos el valor de la varianza obtenido con np.std\n",
    "\n",
    "print(\"----------------------------------------------------------------------------\") #Separador para los valores\n",
    "\n",
    "prof = [37.0] #Edad del profesor en lista\n",
    "edades_2 = edades + prof #Agregamos la edad del profesor a las edades del curso sumando ambas listas\n",
    "\n",
    "conprof.hist(edades_2, #Creamos la segunda grafica con las edades del curso junto con la del profesor\n",
    "             color=\"yellowgreen\",range=(18,37),bins=30,rwidth = 0.7) #Asignamos los parametros de esta grafica:\n",
    "                                                                     #color verde amarillento, rango entre 18 y 37, bin de 30 y ancho de las barra de 0.7\n",
    "\n",
    "print(\"El promedio de las edades contando al profesor es de:\",np.mean(edades_2)) #Imprimimos el promedio\n",
    "print(\"La varianza de las edades contando al profesor es de:\",np.var(edades_2)) #Imprimimos la varianza\n",
    "\n",
    "fig.suptitle(\"Edades de segundo año\") #Asignamos nombre a la imagen\n",
    "sinprof.set_title(\"Edades sin el profesor\") #Le asignamos nombre al primer gráfico\n",
    "conprof.set_title(\"Edades con el profesor\") #Le asignamos nombre al segundo gráfico\n",
    "fig.tight_layout(pad=1.5) #Le pedimos que exista una separacion de 1.5 para que no se solapen\n"
   ]
  },
  {
   "cell_type": "markdown",
   "id": "a40da3d5",
   "metadata": {},
   "source": [
    "# Calificacion: 7.0"
   ]
  }
 ],
 "metadata": {
  "kernelspec": {
   "display_name": "Python 3 (ipykernel)",
   "language": "python",
   "name": "python3"
  },
  "language_info": {
   "codemirror_mode": {
    "name": "ipython",
    "version": 3
   },
   "file_extension": ".py",
   "mimetype": "text/x-python",
   "name": "python",
   "nbconvert_exporter": "python",
   "pygments_lexer": "ipython3",
   "version": "3.9.13"
  }
 },
 "nbformat": 4,
 "nbformat_minor": 5
}
